{
  "nbformat": 4,
  "nbformat_minor": 0,
  "metadata": {
    "colab": {
      "provenance": [],
      "mount_file_id": "1pSfpNA0m0w921fSCkY0wL_SEZjYjaxf3",
      "authorship_tag": "ABX9TyOUqr+C+J4oC4u+Co9ShUw/",
      "include_colab_link": true
    },
    "kernelspec": {
      "name": "python3",
      "display_name": "Python 3"
    },
    "language_info": {
      "name": "python"
    }
  },
  "cells": [
    {
      "cell_type": "markdown",
      "metadata": {
        "id": "view-in-github",
        "colab_type": "text"
      },
      "source": [
        "<a href=\"https://colab.research.google.com/github/dinesh11990/recappythonexercise2025/blob/main/FirstCode.ipynb\" target=\"_parent\"><img src=\"https://colab.research.google.com/assets/colab-badge.svg\" alt=\"Open In Colab\"/></a>"
      ]
    },
    {
      "cell_type": "code",
      "execution_count": null,
      "metadata": {
        "colab": {
          "base_uri": "https://localhost:8080/"
        },
        "collapsed": true,
        "id": "gzzWdF5n14bQ",
        "outputId": "f218fad4-66ad-4dbb-a0bf-236e194ce362"
      },
      "outputs": [
        {
          "output_type": "stream",
          "name": "stdout",
          "text": [
            "Hello Dinesh!\n"
          ]
        }
      ],
      "source": [
        "print(\"Hello Dinesh!\")"
      ]
    },
    {
      "cell_type": "code",
      "source": [
        "name = \"Dinesh\"\n",
        "age = 15\n",
        "height = 5.8\n",
        "is_gamer = True\n",
        "print(\"Name:\", name)\n",
        "print(\"Age:\", age)\n",
        "print(\"Height:\", height)\n",
        "print(\"Is Gamer?\", is_gamer)"
      ],
      "metadata": {
        "colab": {
          "base_uri": "https://localhost:8080/"
        },
        "collapsed": true,
        "id": "oy_IAn-e2sv4",
        "outputId": "c6efb79d-b16e-4c59-c99e-0f0f28589022"
      },
      "execution_count": null,
      "outputs": [
        {
          "output_type": "stream",
          "name": "stdout",
          "text": [
            "Name: Dinesh\n",
            "Age: 15\n",
            "Height: 5.8\n",
            "Is Gamer? True\n"
          ]
        }
      ]
    },
    {
      "cell_type": "code",
      "source": [],
      "metadata": {
        "id": "sWKZnJ7c_rKv"
      },
      "execution_count": null,
      "outputs": []
    }
  ]
}